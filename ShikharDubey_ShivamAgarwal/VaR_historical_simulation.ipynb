{
  "nbformat": 4,
  "nbformat_minor": 0,
  "metadata": {
    "colab": {
      "name": "VaR_historical_simulation.ipynb",
      "provenance": [],
      "collapsed_sections": []
    },
    "kernelspec": {
      "name": "python3",
      "display_name": "Python 3"
    }
  },
  "cells": [
    {
      "cell_type": "code",
      "metadata": {
        "id": "8pD7ipzThLfL",
        "colab_type": "code",
        "colab": {}
      },
      "source": [
        "# Data manipulation\n",
        "import numpy as np\n",
        "import pandas as pd\n",
        "# Plotting \n",
        "import matplotlib.pyplot as plt\n",
        "import seaborn\n",
        "import matplotlib.mlab as mlab\n",
        "# Statistical calculation\n",
        "from scipy.stats import norm\n",
        "# Data fetching\\n\",\n",
        "import fix_yahoo_finance as yf\n",
        "# Tabular data output\\n\",\n",
        "from tabulate import tabulate \n"
      ],
      "execution_count": 0,
      "outputs": []
    },
    {
      "cell_type": "code",
      "metadata": {
        "id": "FlsUwDThzzhJ",
        "colab_type": "code",
        "colab": {}
      },
      "source": [
        "import datetime as dt"
      ],
      "execution_count": 0,
      "outputs": []
    },
    {
      "cell_type": "code",
      "metadata": {
        "id": "Lvf_wnb6mWWw",
        "colab_type": "code",
        "outputId": "5304d816-2c02-44dd-f2ba-d8dffcbb730f",
        "colab": {
          "base_uri": "https://localhost:8080/",
          "height": 34
        }
      },
      "source": [
        "tickers = ['AAPL','FB', 'C', 'DIS']\n",
        "df = yf.download(tickers, start='2012-01-01',end=dt.date.today())['Close']\n",
        "df=df.dropna()\n",
        "returns = df.pct_change()"
      ],
      "execution_count": 0,
      "outputs": [
        {
          "output_type": "stream",
          "text": [
            "[*********************100%***********************]  4 of 4 downloaded\n"
          ],
          "name": "stdout"
        }
      ]
    },
    {
      "cell_type": "code",
      "metadata": {
        "id": "7GbJezbh0G4E",
        "colab_type": "code",
        "colab": {}
      },
      "source": [
        "weights = np.array([.25, .3, .15, .3])"
      ],
      "execution_count": 0,
      "outputs": []
    },
    {
      "cell_type": "code",
      "metadata": {
        "id": "OhKWtVJtVhMW",
        "colab_type": "code",
        "colab": {}
      },
      "source": [
        "weights = weights*100000"
      ],
      "execution_count": 0,
      "outputs": []
    },
    {
      "cell_type": "code",
      "metadata": {
        "id": "kVFhFhjY1SgW",
        "colab_type": "code",
        "colab": {}
      },
      "source": [
        "weights = weights[np.newaxis,:]"
      ],
      "execution_count": 0,
      "outputs": []
    },
    {
      "cell_type": "code",
      "metadata": {
        "id": "g4xIBBFP1cAr",
        "colab_type": "code",
        "outputId": "0456d232-05d3-421f-d503-9afcbbaf1282",
        "colab": {
          "base_uri": "https://localhost:8080/",
          "height": 34
        }
      },
      "source": [
        "weights.shape"
      ],
      "execution_count": 0,
      "outputs": [
        {
          "output_type": "execute_result",
          "data": {
            "text/plain": [
              "(1, 4)"
            ]
          },
          "metadata": {
            "tags": []
          },
          "execution_count": 33
        }
      ]
    },
    {
      "cell_type": "code",
      "metadata": {
        "id": "djbSYd0V03Oq",
        "colab_type": "code",
        "colab": {}
      },
      "source": [
        "r = returns.to_numpy()"
      ],
      "execution_count": 0,
      "outputs": []
    },
    {
      "cell_type": "code",
      "metadata": {
        "id": "a1eNQNsJ0990",
        "colab_type": "code",
        "colab": {}
      },
      "source": [
        "r = weights*r"
      ],
      "execution_count": 0,
      "outputs": []
    },
    {
      "cell_type": "code",
      "metadata": {
        "id": "62cj9Thb17rt",
        "colab_type": "code",
        "colab": {}
      },
      "source": [
        "r = np.sum(r,axis=1)"
      ],
      "execution_count": 0,
      "outputs": []
    },
    {
      "cell_type": "code",
      "metadata": {
        "id": "m3zpwlOi2Fhq",
        "colab_type": "code",
        "outputId": "24919fa6-35ce-4fe7-fea0-fbee45c8dacc",
        "colab": {
          "base_uri": "https://localhost:8080/",
          "height": 34
        }
      },
      "source": [
        "r.shape"
      ],
      "execution_count": 0,
      "outputs": [
        {
          "output_type": "execute_result",
          "data": {
            "text/plain": [
              "(2002,)"
            ]
          },
          "metadata": {
            "tags": []
          },
          "execution_count": 37
        }
      ]
    },
    {
      "cell_type": "code",
      "metadata": {
        "id": "vBQqq_pq2Mq3",
        "colab_type": "code",
        "outputId": "50846557-078e-4dca-bf50-9c922552ec5c",
        "colab": {
          "base_uri": "https://localhost:8080/",
          "height": 51
        }
      },
      "source": [
        "r"
      ],
      "execution_count": 0,
      "outputs": [
        {
          "output_type": "execute_result",
          "data": {
            "text/plain": [
              "array([           nan, -1363.93868309, -2097.4273751 , ...,\n",
              "         590.00971395, -3005.69741289,   203.70672836])"
            ]
          },
          "metadata": {
            "tags": []
          },
          "execution_count": 38
        }
      ]
    },
    {
      "cell_type": "code",
      "metadata": {
        "id": "ZMd0Gca_2Qp5",
        "colab_type": "code",
        "outputId": "c0aac8ee-03af-47b7-9391-8831311d133d",
        "colab": {
          "base_uri": "https://localhost:8080/",
          "height": 347
        }
      },
      "source": [
        "plt.hist(r,bins=40)\n",
        "plt.xlabel('Returns')\n",
        "plt.ylabel('Frequency')\n",
        "plt.grid(True)\n",
        "plt.show()"
      ],
      "execution_count": 0,
      "outputs": [
        {
          "output_type": "stream",
          "text": [
            "/usr/local/lib/python3.6/dist-packages/numpy/lib/histograms.py:839: RuntimeWarning: invalid value encountered in greater_equal\n",
            "  keep = (tmp_a >= first_edge)\n",
            "/usr/local/lib/python3.6/dist-packages/numpy/lib/histograms.py:840: RuntimeWarning: invalid value encountered in less_equal\n",
            "  keep &= (tmp_a <= last_edge)\n"
          ],
          "name": "stderr"
        },
        {
          "output_type": "display_data",
          "data": {
            "image/png": "[encoded data removed]",
            "text/plain": [
              "<Figure size 432x288 with 1 Axes>"
            ]
          },
          "metadata": {
            "tags": [],
            "needs_background": "light"
          }
        }
      ]
    },
    {
      "cell_type": "code",
      "metadata": {
        "id": "P70tWQFQ2c1o",
        "colab_type": "code",
        "colab": {}
      },
      "source": [
        "df1 = pd.DataFrame(r)"
      ],
      "execution_count": 0,
      "outputs": []
    },
    {
      "cell_type": "code",
      "metadata": {
        "id": "4OZ35EgW2mZp",
        "colab_type": "code",
        "colab": {}
      },
      "source": [
        "df1.columns = ['Returns']"
      ],
      "execution_count": 0,
      "outputs": []
    },
    {
      "cell_type": "code",
      "metadata": {
        "id": "yGYczSlB2tNO",
        "colab_type": "code",
        "outputId": "665bc0af-4152-49e2-9a15-5c926103a2c0",
        "colab": {
          "base_uri": "https://localhost:8080/",
          "height": 419
        }
      },
      "source": [
        "df1"
      ],
      "execution_count": 0,
      "outputs": [
        {
          "output_type": "execute_result",
          "data": {
            "text/html": [
              "<div>\n",
              "<style scoped>\n",
              "    .dataframe tbody tr th:only-of-type {\n",
              "        vertical-align: middle;\n",
              "    }\n",
              "\n",
              "    .dataframe tbody tr th {\n",
              "        vertical-align: top;\n",
              "    }\n",
              "\n",
              "    .dataframe thead th {\n",
              "        text-align: right;\n",
              "    }\n",
              "</style>\n",
              "<table border=\"1\" class=\"dataframe\">\n",
              "  <thead>\n",
              "    <tr style=\"text-align: right;\">\n",
              "      <th></th>\n",
              "      <th>Returns</th>\n",
              "    </tr>\n",
              "  </thead>\n",
              "  <tbody>\n",
              "    <tr>\n",
              "      <th>0</th>\n",
              "      <td>NaN</td>\n",
              "    </tr>\n",
              "    <tr>\n",
              "      <th>1</th>\n",
              "      <td>-1363.938683</td>\n",
              "    </tr>\n",
              "    <tr>\n",
              "      <th>2</th>\n",
              "      <td>-2097.427375</td>\n",
              "    </tr>\n",
              "    <tr>\n",
              "      <th>3</th>\n",
              "      <td>1773.227290</td>\n",
              "    </tr>\n",
              "    <tr>\n",
              "      <th>4</th>\n",
              "      <td>272.626908</td>\n",
              "    </tr>\n",
              "    <tr>\n",
              "      <th>...</th>\n",
              "      <td>...</td>\n",
              "    </tr>\n",
              "    <tr>\n",
              "      <th>1997</th>\n",
              "      <td>-699.607558</td>\n",
              "    </tr>\n",
              "    <tr>\n",
              "      <th>1998</th>\n",
              "      <td>5462.395887</td>\n",
              "    </tr>\n",
              "    <tr>\n",
              "      <th>1999</th>\n",
              "      <td>590.009714</td>\n",
              "    </tr>\n",
              "    <tr>\n",
              "      <th>2000</th>\n",
              "      <td>-3005.697413</td>\n",
              "    </tr>\n",
              "    <tr>\n",
              "      <th>2001</th>\n",
              "      <td>203.706728</td>\n",
              "    </tr>\n",
              "  </tbody>\n",
              "</table>\n",
              "<p>2002 rows × 1 columns</p>\n",
              "</div>"
            ],
            "text/plain": [
              "          Returns\n",
              "0             NaN\n",
              "1    -1363.938683\n",
              "2    -2097.427375\n",
              "3     1773.227290\n",
              "4      272.626908\n",
              "...           ...\n",
              "1997  -699.607558\n",
              "1998  5462.395887\n",
              "1999   590.009714\n",
              "2000 -3005.697413\n",
              "2001   203.706728\n",
              "\n",
              "[2002 rows x 1 columns]"
            ]
          },
          "metadata": {
            "tags": []
          },
          "execution_count": 42
        }
      ]
    },
    {
      "cell_type": "code",
      "metadata": {
        "id": "SAyYKzAMoEWD",
        "colab_type": "code",
        "colab": {}
      },
      "source": [
        "df1.sort_values('Returns',inplace= True, ascending=True)"
      ],
      "execution_count": 0,
      "outputs": []
    },
    {
      "cell_type": "code",
      "metadata": {
        "id": "PF9tsF9QoU3L",
        "colab_type": "code",
        "outputId": "ab664ddc-e972-49b8-b86e-a75e17233768",
        "colab": {
          "base_uri": "https://localhost:8080/",
          "height": 102
        }
      },
      "source": [
        "VaR_90= (df1['Returns' ].quantile(0.1))*(-1)\n",
        "VaR_95=(df1['Returns'].quantile(0.05))*(-1) \n",
        "VaR_99= (df1['Returns' ].quantile(0.01))*(-1)\n",
        "\n",
        "print( tabulate([['90%', VaR_90], ['95%' , VaR_95],['99%', VaR_99]], headers=['Confidence Level value', 'Hist_VaR']))"
      ],
      "execution_count": 0,
      "outputs": [
        {
          "output_type": "stream",
          "text": [
            "Confidence Level value      Hist_VaR\n",
            "------------------------  ----------\n",
            "90%                          1484.68\n",
            "95%                          2112.57\n",
            "99%                          4173.52\n"
          ],
          "name": "stdout"
        }
      ]
    },
    {
      "cell_type": "code",
      "metadata": {
        "id": "J5cvLB4Lvv_V",
        "colab_type": "code",
        "colab": {}
      },
      "source": [
        "n_day = [-VaR_99]\n",
        "for i in range(10):\n",
        "  n_day.append(n_day[0]*np.sqrt(i+2))"
      ],
      "execution_count": 0,
      "outputs": []
    },
    {
      "cell_type": "code",
      "metadata": {
        "id": "shnJv5GYGEEt",
        "colab_type": "code",
        "colab": {}
      },
      "source": [
        "x_axis = ['day1','day2','day3','day4','day5','day6','day7','day8','day9','day10','day11']\n",
        "plt.plot(x_axis,n_day)\n",
        "plt.ylabel(\"N-day VaR\")\n",
        "plt.show()"
      ],
      "execution_count": 0,
      "outputs": []
    },
    {
      "cell_type": "code",
      "metadata": {
        "id": "3Mxuliw0GGK-",
        "colab_type": "code",
        "colab": {}
      },
      "source": [
        "from scipy.io import loadmat ,savemat\n",
        "savemat(\"historical_inv_sum.mat\", {\"array\":r})\n",
        "savemat(\"historical_nday_var.mat\", {\"array\": n_day})"
      ],
      "execution_count": 0,
      "outputs": []
    },
    {
      "cell_type": "code",
      "metadata": {
        "id": "MBgyhNQLH7zJ",
        "colab_type": "code",
        "colab": {}
      },
      "source": [
        ""
      ],
      "execution_count": 0,
      "outputs": []
    }
  ]
}