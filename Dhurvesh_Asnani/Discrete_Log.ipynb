{
  "nbformat": 4,
  "nbformat_minor": 0,
  "metadata": {
    "kernelspec": {
      "display_name": "Python 3",
      "language": "python",
      "name": "python3"
    },
    "language_info": {
      "codemirror_mode": {
        "name": "ipython",
        "version": 3
      },
      "file_extension": ".py",
      "mimetype": "text/x-python",
      "name": "python",
      "nbconvert_exporter": "python",
      "pygments_lexer": "ipython3",
      "version": "3.6.9"
    },
    "colab": {
      "name": "Discrete_Log.ipynb",
      "provenance": [],
      "collapsed_sections": []
    }
  },
  "cells": [
    {
      "cell_type": "markdown",
      "metadata": {
        "id": "ZObXjnUPGb8h",
        "colab_type": "text"
      },
      "source": [
        "## Implementation of a quantum algorithm for Discrete Log Problem over $\\mathbb{Z}^*_N$ using IBM QisKit\n",
        "Here, we present an implementation of a quantum algorithm for the discrete log problem on the multiplicative group. The algorithm is inspired from the explanation in the book **An Introduction to Quantum Computing**  by **P. Kaye, R. Laflamme, M. Mosca**. ([Link](http://mmrc.amss.cas.cn/tlb/201702/W020170224608149125645.pdf)). Refer section 7.4 of the book.\n",
        "\n",
        "Here is the statement of discrete log problem for a group $G$.\n",
        "Let $a, b \\in G$. Let $b = a^t$. $t$ is called a discrete logarithm of $b$ to the base $a$.  The discrete log problem asks: Given $a, b \\in G$, find a discrete logarithm of $b$ to the base $a$ or report that none exists.\n",
        "\n",
        "There are two main parts of the algorithm for $G=\\mathbb{Z}^*_N$ where $N \\in \\mathbb{Z}^{\\geq 2}$:\n",
        "The first part is the implementation of the transformation for modular multiplication.  For $a \\in \\mathbb{Z}^*_N$\n",
        "$$U_a |x\\rangle = |ax \\text{ mod }N \\rangle$$ This implementation is carried out in stages using the following functions: $\\texttt{get_angles()}$, $\\texttt{phi_add()}$, $\\texttt{phi_add_mod_N()}$, $\\texttt{multiply_mod_N()}$ and $\\texttt{power_mod_N()}$. \n",
        "\n",
        "The implementation of the first four functions is based on the [this](https://arxiv.org/abs/quant-ph/0205095) paper by Stephane Beauregard and is heavily inspired by [this](https://qiskit.org/documentation/_modules/qiskit/aqua/algorithms/single_sample/shor/shor.html) Qiskit implementation of Shor's algorithm.\n",
        "\n",
        "The second part is the implementation of the phase estimation algorithm.\n",
        "![](https://drive.google.com/uc?id=19izOOlQ7CvGuVlPjRrH3nJ3vpQROon6W)\n",
        "\n",
        "Using Shor's algorithm we can find $r$, the order of $a$ modulo $N$. WLOG, let $t \\in \\mathbb{Z}_r$. Now, on measuring the first two registers, we can find $(\\frac{k}{r}, \\frac{kt \\text{ mod }r}{r} )$ for some $k \\in \\mathbb{Z}_r$. Since we know $r$, we get the pair $(k, kt \\text{ mod }r)$. We run the circuit multiple times to find two pairs $(k_1, k_1t \\text{ mod }r)$ and $(k_2, k_2t \\text{ mod }r)$ such that $k_1$ and $k_2$ are relatively prime. Let $v_1 = k_1t \\text{ mod }r$ and $v_2 = k_2t \\text{ mod }r$. Now there exist $\\lambda_1, \\lambda_2 \\in \\mathbb{Z}$ such that $$\\lambda_1 k_1 + \\lambda_2 k_2 = 1$$ So, $t =  \\lambda_1 k_1 t + \\lambda_2 k_2 t$. Since $t = t \\text{ mod }r$, $$t = (\\lambda_1 v_1 + \\lambda_2 v_2) \\text{ mod }r$$\n",
        "\n",
        "\n"
      ]
    },
    {
      "cell_type": "code",
      "metadata": {
        "id": "dExMrc7RG9vT",
        "colab_type": "code",
        "outputId": "c187c92e-da23-4cb4-cf63-e7f1fadd34a9",
        "colab": {
          "base_uri": "https://localhost:8080/",
          "height": 1000
        }
      },
      "source": [
        "!pip install qiskit==0.12.0"
      ],
      "execution_count": 0,
      "outputs": [
        {
          "output_type": "stream",
          "text": [
            "Collecting qiskit==0.12.0\n",
            "  Downloading https://files.pythonhosted.org/packages/5a/d6/bbb178455616d8aabd4d9df5110681d847da8303d3bd81d856fc14f929eb/qiskit-0.12.0.tar.gz\n",
            "Collecting qiskit_terra==0.9.0\n",
            "\u001b[?25l  Downloading https://files.pythonhosted.org/packages/02/af/d41b625d00621e346844503cb1c27e3b0f9e5469e702276e5c1dfb236d03/qiskit_terra-0.9.0-cp36-cp36m-manylinux1_x86_64.whl (1.6MB)\n",
            "\r\u001b[K     |▏                               | 10kB 14.9MB/s eta 0:00:01\r\u001b[K     |▍                               | 20kB 1.6MB/s eta 0:00:01\r\u001b[K     |▋                               | 30kB 2.4MB/s eta 0:00:01\r\u001b[K     |▉                               | 40kB 3.1MB/s eta 0:00:01\r\u001b[K     |█                               | 51kB 2.1MB/s eta 0:00:01\r\u001b[K     |█▎                              | 61kB 2.4MB/s eta 0:00:01\r\u001b[K     |█▌                              | 71kB 2.8MB/s eta 0:00:01\r\u001b[K     |█▊                              | 81kB 3.2MB/s eta 0:00:01\r\u001b[K     |█▉                              | 92kB 2.5MB/s eta 0:00:01\r\u001b[K     |██                              | 102kB 2.7MB/s eta 0:00:01\r\u001b[K     |██▎                             | 112kB 2.7MB/s eta 0:00:01\r\u001b[K     |██▌                             | 122kB 2.7MB/s eta 0:00:01\r\u001b[K     |██▊                             | 133kB 2.7MB/s eta 0:00:01\r\u001b[K     |███                             | 143kB 2.7MB/s eta 0:00:01\r\u001b[K     |███▏                            | 153kB 2.7MB/s eta 0:00:01\r\u001b[K     |███▍                            | 163kB 2.7MB/s eta 0:00:01\r\u001b[K     |███▋                            | 174kB 2.7MB/s eta 0:00:01\r\u001b[K     |███▊                            | 184kB 2.7MB/s eta 0:00:01\r\u001b[K     |████                            | 194kB 2.7MB/s eta 0:00:01\r\u001b[K     |████▏                           | 204kB 2.7MB/s eta 0:00:01\r\u001b[K     |████▍                           | 215kB 2.7MB/s eta 0:00:01\r\u001b[K     |████▋                           | 225kB 2.7MB/s eta 0:00:01\r\u001b[K     |████▉                           | 235kB 2.7MB/s eta 0:00:01\r\u001b[K     |█████                           | 245kB 2.7MB/s eta 0:00:01\r\u001b[K     |█████▎                          | 256kB 2.7MB/s eta 0:00:01\r\u001b[K     |█████▌                          | 266kB 2.7MB/s eta 0:00:01\r\u001b[K     |█████▋                          | 276kB 2.7MB/s eta 0:00:01\r\u001b[K     |█████▉                          | 286kB 2.7MB/s eta 0:00:01\r\u001b[K     |██████                          | 296kB 2.7MB/s eta 0:00:01\r\u001b[K     |██████▎                         | 307kB 2.7MB/s eta 0:00:01\r\u001b[K     |██████▌                         | 317kB 2.7MB/s eta 0:00:01\r\u001b[K     |██████▊                         | 327kB 2.7MB/s eta 0:00:01\r\u001b[K     |███████                         | 337kB 2.7MB/s eta 0:00:01\r\u001b[K     |███████▏                        | 348kB 2.7MB/s eta 0:00:01\r\u001b[K     |███████▍                        | 358kB 2.7MB/s eta 0:00:01\r\u001b[K     |███████▌                        | 368kB 2.7MB/s eta 0:00:01\r\u001b[K     |███████▊                        | 378kB 2.7MB/s eta 0:00:01\r\u001b[K     |████████                        | 389kB 2.7MB/s eta 0:00:01\r\u001b[K     |████████▏                       | 399kB 2.7MB/s eta 0:00:01\r\u001b[K     |████████▍                       | 409kB 2.7MB/s eta 0:00:01\r\u001b[K     |████████▋                       | 419kB 2.7MB/s eta 0:00:01\r\u001b[K     |████████▉                       | 430kB 2.7MB/s eta 0:00:01\r\u001b[K     |█████████                       | 440kB 2.7MB/s eta 0:00:01\r\u001b[K     |█████████▎                      | 450kB 2.7MB/s eta 0:00:01\r\u001b[K     |█████████▍                      | 460kB 2.7MB/s eta 0:00:01\r\u001b[K     |█████████▋                      | 471kB 2.7MB/s eta 0:00:01\r\u001b[K     |█████████▉                      | 481kB 2.7MB/s eta 0:00:01\r\u001b[K     |██████████                      | 491kB 2.7MB/s eta 0:00:01\r\u001b[K     |██████████▎                     | 501kB 2.7MB/s eta 0:00:01\r\u001b[K     |██████████▌                     | 512kB 2.7MB/s eta 0:00:01\r\u001b[K     |██████████▊                     | 522kB 2.7MB/s eta 0:00:01\r\u001b[K     |███████████                     | 532kB 2.7MB/s eta 0:00:01\r\u001b[K     |███████████▏                    | 542kB 2.7MB/s eta 0:00:01\r\u001b[K     |███████████▎                    | 552kB 2.7MB/s eta 0:00:01\r\u001b[K     |███████████▌                    | 563kB 2.7MB/s eta 0:00:01\r\u001b[K     |███████████▊                    | 573kB 2.7MB/s eta 0:00:01\r\u001b[K     |████████████                    | 583kB 2.7MB/s eta 0:00:01\r\u001b[K     |████████████▏                   | 593kB 2.7MB/s eta 0:00:01\r\u001b[K     |████████████▍                   | 604kB 2.7MB/s eta 0:00:01\r\u001b[K     |████████████▋                   | 614kB 2.7MB/s eta 0:00:01\r\u001b[K     |████████████▉                   | 624kB 2.7MB/s eta 0:00:01\r\u001b[K     |█████████████                   | 634kB 2.7MB/s eta 0:00:01\r\u001b[K     |█████████████▏                  | 645kB 2.7MB/s eta 0:00:01\r\u001b[K     |█████████████▍                  | 655kB 2.7MB/s eta 0:00:01\r\u001b[K     |█████████████▋                  | 665kB 2.7MB/s eta 0:00:01\r\u001b[K     |█████████████▉                  | 675kB 2.7MB/s eta 0:00:01\r\u001b[K     |██████████████                  | 686kB 2.7MB/s eta 0:00:01\r\u001b[K     |██████████████▎                 | 696kB 2.7MB/s eta 0:00:01\r\u001b[K     |██████████████▌                 | 706kB 2.7MB/s eta 0:00:01\r\u001b[K     |██████████████▊                 | 716kB 2.7MB/s eta 0:00:01\r\u001b[K     |██████████████▉                 | 727kB 2.7MB/s eta 0:00:01\r\u001b[K     |███████████████                 | 737kB 2.7MB/s eta 0:00:01\r\u001b[K     |███████████████▎                | 747kB 2.7MB/s eta 0:00:01\r\u001b[K     |███████████████▌                | 757kB 2.7MB/s eta 0:00:01\r\u001b[K     |███████████████▊                | 768kB 2.7MB/s eta 0:00:01\r\u001b[K     |████████████████                | 778kB 2.7MB/s eta 0:00:01\r\u001b[K     |████████████████▏               | 788kB 2.7MB/s eta 0:00:01\r\u001b[K     |████████████████▍               | 798kB 2.7MB/s eta 0:00:01\r\u001b[K     |████████████████▋               | 808kB 2.7MB/s eta 0:00:01\r\u001b[K     |████████████████▊               | 819kB 2.7MB/s eta 0:00:01\r\u001b[K     |█████████████████               | 829kB 2.7MB/s eta 0:00:01\r\u001b[K     |█████████████████▏              | 839kB 2.7MB/s eta 0:00:01\r\u001b[K     |█████████████████▍              | 849kB 2.7MB/s eta 0:00:01\r\u001b[K     |█████████████████▋              | 860kB 2.7MB/s eta 0:00:01\r\u001b[K     |█████████████████▉              | 870kB 2.7MB/s eta 0:00:01\r\u001b[K     |██████████████████              | 880kB 2.7MB/s eta 0:00:01\r\u001b[K     |██████████████████▎             | 890kB 2.7MB/s eta 0:00:01\r\u001b[K     |██████████████████▌             | 901kB 2.7MB/s eta 0:00:01\r\u001b[K     |██████████████████▋             | 911kB 2.7MB/s eta 0:00:01\r\u001b[K     |██████████████████▉             | 921kB 2.7MB/s eta 0:00:01\r\u001b[K     |███████████████████             | 931kB 2.7MB/s eta 0:00:01\r\u001b[K     |███████████████████▎            | 942kB 2.7MB/s eta 0:00:01\r\u001b[K     |███████████████████▌            | 952kB 2.7MB/s eta 0:00:01\r\u001b[K     |███████████████████▊            | 962kB 2.7MB/s eta 0:00:01\r\u001b[K     |████████████████████            | 972kB 2.7MB/s eta 0:00:01\r\u001b[K     |████████████████████▏           | 983kB 2.7MB/s eta 0:00:01\r\u001b[K     |████████████████████▍           | 993kB 2.7MB/s eta 0:00:01\r\u001b[K     |████████████████████▌           | 1.0MB 2.7MB/s eta 0:00:01\r\u001b[K     |████████████████████▊           | 1.0MB 2.7MB/s eta 0:00:01\r\u001b[K     |█████████████████████           | 1.0MB 2.7MB/s eta 0:00:01\r\u001b[K     |█████████████████████▏          | 1.0MB 2.7MB/s eta 0:00:01\r\u001b[K     |█████████████████████▍          | 1.0MB 2.7MB/s eta 0:00:01\r\u001b[K     |█████████████████████▋          | 1.1MB 2.7MB/s eta 0:00:01\r\u001b[K     |█████████████████████▉          | 1.1MB 2.7MB/s eta 0:00:01\r\u001b[K     |██████████████████████          | 1.1MB 2.7MB/s eta 0:00:01\r\u001b[K     |██████████████████████▎         | 1.1MB 2.7MB/s eta 0:00:01\r\u001b[K     |██████████████████████▍         | 1.1MB 2.7MB/s eta 0:00:01\r\u001b[K     |██████████████████████▋         | 1.1MB 2.7MB/s eta 0:00:01\r\u001b[K     |██████████████████████▉         | 1.1MB 2.7MB/s eta 0:00:01\r\u001b[K     |███████████████████████         | 1.1MB 2.7MB/s eta 0:00:01\r\u001b[K     |███████████████████████▎        | 1.1MB 2.7MB/s eta 0:00:01\r\u001b[K     |███████████████████████▌        | 1.1MB 2.7MB/s eta 0:00:01\r\u001b[K     |███████████████████████▊        | 1.2MB 2.7MB/s eta 0:00:01\r\u001b[K     |████████████████████████        | 1.2MB 2.7MB/s eta 0:00:01\r\u001b[K     |████████████████████████▏       | 1.2MB 2.7MB/s eta 0:00:01\r\u001b[K     |████████████████████████▎       | 1.2MB 2.7MB/s eta 0:00:01\r\u001b[K     |████████████████████████▌       | 1.2MB 2.7MB/s eta 0:00:01\r\u001b[K     |████████████████████████▊       | 1.2MB 2.7MB/s eta 0:00:01\r\u001b[K     |█████████████████████████       | 1.2MB 2.7MB/s eta 0:00:01\r\u001b[K     |█████████████████████████▏      | 1.2MB 2.7MB/s eta 0:00:01\r\u001b[K     |█████████████████████████▍      | 1.2MB 2.7MB/s eta 0:00:01\r\u001b[K     |█████████████████████████▋      | 1.2MB 2.7MB/s eta 0:00:01\r\u001b[K     |█████████████████████████▉      | 1.3MB 2.7MB/s eta 0:00:01\r\u001b[K     |██████████████████████████      | 1.3MB 2.7MB/s eta 0:00:01\r\u001b[K     |██████████████████████████▏     | 1.3MB 2.7MB/s eta 0:00:01\r\u001b[K     |██████████████████████████▍     | 1.3MB 2.7MB/s eta 0:00:01\r\u001b[K     |██████████████████████████▋     | 1.3MB 2.7MB/s eta 0:00:01\r\u001b[K     |██████████████████████████▉     | 1.3MB 2.7MB/s eta 0:00:01\r\u001b[K     |███████████████████████████     | 1.3MB 2.7MB/s eta 0:00:01\r\u001b[K     |███████████████████████████▎    | 1.3MB 2.7MB/s eta 0:00:01\r\u001b[K     |███████████████████████████▌    | 1.3MB 2.7MB/s eta 0:00:01\r\u001b[K     |███████████████████████████▊    | 1.4MB 2.7MB/s eta 0:00:01\r\u001b[K     |████████████████████████████    | 1.4MB 2.7MB/s eta 0:00:01\r\u001b[K     |████████████████████████████    | 1.4MB 2.7MB/s eta 0:00:01\r\u001b[K     |████████████████████████████▎   | 1.4MB 2.7MB/s eta 0:00:01\r\u001b[K     |████████████████████████████▌   | 1.4MB 2.7MB/s eta 0:00:01\r\u001b[K     |████████████████████████████▊   | 1.4MB 2.7MB/s eta 0:00:01\r\u001b[K     |█████████████████████████████   | 1.4MB 2.7MB/s eta 0:00:01\r\u001b[K     |█████████████████████████████▏  | 1.4MB 2.7MB/s eta 0:00:01\r\u001b[K     |█████████████████████████████▍  | 1.4MB 2.7MB/s eta 0:00:01\r\u001b[K     |█████████████████████████████▋  | 1.4MB 2.7MB/s eta 0:00:01\r\u001b[K     |█████████████████████████████▊  | 1.5MB 2.7MB/s eta 0:00:01\r\u001b[K     |██████████████████████████████  | 1.5MB 2.7MB/s eta 0:00:01\r\u001b[K     |██████████████████████████████▏ | 1.5MB 2.7MB/s eta 0:00:01\r\u001b[K     |██████████████████████████████▍ | 1.5MB 2.7MB/s eta 0:00:01\r\u001b[K     |██████████████████████████████▋ | 1.5MB 2.7MB/s eta 0:00:01\r\u001b[K     |██████████████████████████████▉ | 1.5MB 2.7MB/s eta 0:00:01\r\u001b[K     |███████████████████████████████ | 1.5MB 2.7MB/s eta 0:00:01\r\u001b[K     |███████████████████████████████▎| 1.5MB 2.7MB/s eta 0:00:01\r\u001b[K     |███████████████████████████████▌| 1.5MB 2.7MB/s eta 0:00:01\r\u001b[K     |███████████████████████████████▋| 1.5MB 2.7MB/s eta 0:00:01\r\u001b[K     |███████████████████████████████▉| 1.6MB 2.7MB/s eta 0:00:01\r\u001b[K     |████████████████████████████████| 1.6MB 2.7MB/s \n",
            "\u001b[?25hCollecting qiskit-aer==0.3.0\n",
            "\u001b[?25l  Downloading https://files.pythonhosted.org/packages/6f/0e/1d7668ffafb85b373bc8681f3f6adffacd957a258a4a7211178cfc7e8559/qiskit_aer-0.3.0-cp36-cp36m-manylinux1_x86_64.whl (21.6MB)\n",
            "\u001b[K     |████████████████████████████████| 21.6MB 72.9MB/s \n",
            "\u001b[?25hCollecting qiskit-ibmq-provider==0.3.2\n",
            "\u001b[?25l  Downloading https://files.pythonhosted.org/packages/bb/eb/9c3e007c625b136c66a3f6da73f682f6ec32f6ee8274d998d84ec51cf3be/qiskit_ibmq_provider-0.3.2-py3-none-any.whl (85kB)\n",
            "\u001b[K     |████████████████████████████████| 92kB 9.9MB/s \n",
            "\u001b[?25hCollecting qiskit-ignis==0.2.0\n",
            "\u001b[?25l  Downloading https://files.pythonhosted.org/packages/78/f2/f4f89c65d2c13f473092f7e800519836611ddeeaab8d4591a70555b26a37/qiskit_ignis-0.2.0-py3-none-any.whl (100kB)\n",
            "\u001b[K     |████████████████████████████████| 102kB 11.4MB/s \n",
            "\u001b[?25hCollecting qiskit-aqua==0.6.0\n",
            "\u001b[?25l  Downloading https://files.pythonhosted.org/packages/5f/c0/894d00f156458edc5fd0dd559c07889c4bb3c8ca9ea17c921737bfcad6d9/qiskit_aqua-0.6.0-py3-none-any.whl (979kB)\n",
            "\u001b[K     |████████████████████████████████| 983kB 45.8MB/s \n",
            "\u001b[?25hCollecting sympy>=1.3\n",
            "\u001b[?25l  Downloading https://files.pythonhosted.org/packages/ce/5b/acc12e3c0d0be685601fc2b2d20ed18dc0bf461380e763afc9d0a548deb0/sympy-1.5.1-py2.py3-none-any.whl (5.6MB)\n",
            "\u001b[K     |████████████████████████████████| 5.6MB 42.1MB/s \n",
            "\u001b[?25hCollecting marshmallow<3,>=2.17.0\n",
            "\u001b[?25l  Downloading https://files.pythonhosted.org/packages/8d/5a/c8288b3fa34bfc5afeee56454db7c239b9d2f492c36172dafabf95c780af/marshmallow-2.21.0-py2.py3-none-any.whl (50kB)\n",
            "\u001b[K     |████████████████████████████████| 51kB 6.9MB/s \n",
            "\u001b[?25hRequirement already satisfied: numpy>=1.13 in /usr/local/lib/python3.6/dist-packages (from qiskit_terra==0.9.0->qiskit==0.12.0) (1.18.3)\n",
            "Collecting marshmallow-polyfield<4,>=3.2\n",
            "  Downloading https://files.pythonhosted.org/packages/fa/ba/6406b8cce3e42b2838d234310c3605627083bbb8f71dcc312c616480fe92/marshmallow_polyfield-3.2-py2.py3-none-any.whl\n",
            "Requirement already satisfied: psutil>=5 in /usr/local/lib/python3.6/dist-packages (from qiskit_terra==0.9.0->qiskit==0.12.0) (5.4.8)\n",
            "Requirement already satisfied: jsonschema<2.7,>=2.6 in /usr/local/lib/python3.6/dist-packages (from qiskit_terra==0.9.0->qiskit==0.12.0) (2.6.0)\n",
            "Collecting ply>=3.10\n",
            "\u001b[?25l  Downloading https://files.pythonhosted.org/packages/a3/58/35da89ee790598a0700ea49b2a66594140f44dec458c07e8e3d4979137fc/ply-3.11-py2.py3-none-any.whl (49kB)\n",
            "\u001b[K     |████████████████████████████████| 51kB 6.6MB/s \n",
            "\u001b[?25hRequirement already satisfied: scipy>=1.0 in /usr/local/lib/python3.6/dist-packages (from qiskit_terra==0.9.0->qiskit==0.12.0) (1.4.1)\n",
            "Requirement already satisfied: networkx>=2.2 in /usr/local/lib/python3.6/dist-packages (from qiskit_terra==0.9.0->qiskit==0.12.0) (2.4)\n",
            "Collecting nest-asyncio==1.0.0\n",
            "  Downloading https://files.pythonhosted.org/packages/62/18/4c6a895c925e8822e72535d774861e9ca07089c4b938ed20002b1aaab66a/nest_asyncio-1.0.0-py3-none-any.whl\n",
            "Collecting requests-ntlm>=1.1.0\n",
            "  Downloading https://files.pythonhosted.org/packages/03/4b/8b9a1afde8072c4d5710d9fa91433d504325821b038e00237dc8d6d833dc/requests_ntlm-1.1.0-py2.py3-none-any.whl\n",
            "Requirement already satisfied: requests>=2.19 in /usr/local/lib/python3.6/dist-packages (from qiskit-ibmq-provider==0.3.2->qiskit==0.12.0) (2.23.0)\n",
            "Collecting websockets<8,>=7\n",
            "\u001b[?25l  Downloading https://files.pythonhosted.org/packages/43/71/8bfa882b9c502c36e5c9ef6732969533670d2b039cbf95a82ced8f762b80/websockets-7.0-cp36-cp36m-manylinux1_x86_64.whl (63kB)\n",
            "\u001b[K     |████████████████████████████████| 71kB 9.8MB/s \n",
            "\u001b[?25hRequirement already satisfied: setuptools>=40.1.0 in /usr/local/lib/python3.6/dist-packages (from qiskit-ignis==0.2.0->qiskit==0.12.0) (46.1.3)\n",
            "Collecting dlx\n",
            "  Downloading https://files.pythonhosted.org/packages/54/c0/b8fb5bb727e983b6f5251433ef941b48f38c65bb0bd6ec509e9185bcd406/dlx-1.0.4.tar.gz\n",
            "Collecting quandl\n",
            "  Downloading https://files.pythonhosted.org/packages/07/ab/8cd479fba8a9b197a43a0d55dd534b066fb8e5a0a04b5c0384cbc5d663aa/Quandl-3.5.0-py2.py3-none-any.whl\n",
            "Requirement already satisfied: h5py in /usr/local/lib/python3.6/dist-packages (from qiskit-aqua==0.6.0->qiskit==0.12.0) (2.10.0)\n",
            "Requirement already satisfied: cvxopt in /usr/local/lib/python3.6/dist-packages (from qiskit-aqua==0.6.0->qiskit==0.12.0) (1.2.5)\n",
            "Collecting docplex\n",
            "\u001b[?25l  Downloading https://files.pythonhosted.org/packages/03/a8/5dc675dbe179a2bd4d1d40522f009b4517ad32890d55ae49449709128d0a/docplex-2.13.184.tar.gz (571kB)\n",
            "\u001b[K     |████████████████████████████████| 573kB 49.7MB/s \n",
            "\u001b[?25hCollecting pyscf; sys_platform != \"win32\"\n",
            "\u001b[?25l  Downloading https://files.pythonhosted.org/packages/7a/ea/8ebe88368935dcc9a1a309764846e0bf5d04352d44067741aab3626ceb7f/pyscf-1.7.1-cp36-cp36m-manylinux1_x86_64.whl (24.3MB)\n",
            "\u001b[K     |████████████████████████████████| 24.3MB 1.8MB/s \n",
            "\u001b[?25hRequirement already satisfied: fastdtw in /usr/local/lib/python3.6/dist-packages (from qiskit-aqua==0.6.0->qiskit==0.12.0) (0.3.4)\n",
            "Requirement already satisfied: scikit-learn>=0.20.0 in /usr/local/lib/python3.6/dist-packages (from qiskit-aqua==0.6.0->qiskit==0.12.0) (0.22.2.post1)\n",
            "Requirement already satisfied: mpmath>=0.19 in /usr/local/lib/python3.6/dist-packages (from sympy>=1.3->qiskit_terra==0.9.0->qiskit==0.12.0) (1.1.0)\n",
            "Requirement already satisfied: decorator>=4.3.0 in /usr/local/lib/python3.6/dist-packages (from networkx>=2.2->qiskit_terra==0.9.0->qiskit==0.12.0) (4.4.2)\n",
            "Collecting cryptography>=1.3\n",
            "\u001b[?25l  Downloading https://files.pythonhosted.org/packages/3c/04/686efee2dcdd25aecf357992e7d9362f443eb182ecd623f882bc9f7a6bba/cryptography-2.9.2-cp35-abi3-manylinux2010_x86_64.whl (2.7MB)\n",
            "\u001b[K     |████████████████████████████████| 2.7MB 42.9MB/s \n",
            "\u001b[?25hCollecting ntlm-auth>=1.0.2\n",
            "  Downloading https://files.pythonhosted.org/packages/50/09/5e397eb18685b14fd8b209e26cdb4fa6451c82c1bcc651fef05fa73e7b27/ntlm_auth-1.4.0-py2.py3-none-any.whl\n",
            "Requirement already satisfied: idna<3,>=2.5 in /usr/local/lib/python3.6/dist-packages (from requests>=2.19->qiskit-ibmq-provider==0.3.2->qiskit==0.12.0) (2.9)\n",
            "Requirement already satisfied: urllib3!=1.25.0,!=1.25.1,<1.26,>=1.21.1 in /usr/local/lib/python3.6/dist-packages (from requests>=2.19->qiskit-ibmq-provider==0.3.2->qiskit==0.12.0) (1.24.3)\n",
            "Requirement already satisfied: certifi>=2017.4.17 in /usr/local/lib/python3.6/dist-packages (from requests>=2.19->qiskit-ibmq-provider==0.3.2->qiskit==0.12.0) (2020.4.5.1)\n",
            "Requirement already satisfied: chardet<4,>=3.0.2 in /usr/local/lib/python3.6/dist-packages (from requests>=2.19->qiskit-ibmq-provider==0.3.2->qiskit==0.12.0) (3.0.4)\n",
            "Requirement already satisfied: more-itertools in /usr/local/lib/python3.6/dist-packages (from quandl->qiskit-aqua==0.6.0->qiskit==0.12.0) (8.2.0)\n",
            "Requirement already satisfied: python-dateutil in /usr/local/lib/python3.6/dist-packages (from quandl->qiskit-aqua==0.6.0->qiskit==0.12.0) (2.8.1)\n",
            "Requirement already satisfied: pandas>=0.14 in /usr/local/lib/python3.6/dist-packages (from quandl->qiskit-aqua==0.6.0->qiskit==0.12.0) (1.0.3)\n",
            "Requirement already satisfied: six in /usr/local/lib/python3.6/dist-packages (from quandl->qiskit-aqua==0.6.0->qiskit==0.12.0) (1.12.0)\n",
            "Collecting inflection>=0.3.1\n",
            "  Downloading https://files.pythonhosted.org/packages/52/c1/36be286d85dbd76527fb613527222a795d7c071da195fa916e7bf3cb03cb/inflection-0.4.0-py2.py3-none-any.whl\n",
            "Requirement already satisfied: joblib>=0.11 in /usr/local/lib/python3.6/dist-packages (from scikit-learn>=0.20.0->qiskit-aqua==0.6.0->qiskit==0.12.0) (0.14.1)\n",
            "Requirement already satisfied: cffi!=1.11.3,>=1.8 in /usr/local/lib/python3.6/dist-packages (from cryptography>=1.3->requests-ntlm>=1.1.0->qiskit-ibmq-provider==0.3.2->qiskit==0.12.0) (1.14.0)\n",
            "Requirement already satisfied: pytz>=2017.2 in /usr/local/lib/python3.6/dist-packages (from pandas>=0.14->quandl->qiskit-aqua==0.6.0->qiskit==0.12.0) (2018.9)\n",
            "Requirement already satisfied: pycparser in /usr/local/lib/python3.6/dist-packages (from cffi!=1.11.3,>=1.8->cryptography>=1.3->requests-ntlm>=1.1.0->qiskit-ibmq-provider==0.3.2->qiskit==0.12.0) (2.20)\n",
            "Building wheels for collected packages: qiskit, dlx, docplex\n",
            "  Building wheel for qiskit (setup.py) ... \u001b[?25l\u001b[?25hdone\n",
            "  Created wheel for qiskit: filename=qiskit-0.12.0-cp36-none-any.whl size=1397 sha256=4bf047879260b3bdac57129bbfb3990b236b6fd100b05b5ea31313ba9e50d6ab\n",
            "  Stored in directory: /root/.cache/pip/wheels/de/fc/68/2318ad43f26583ec1ac8e30bedd43e71211c9256429b7f829c\n",
            "  Building wheel for dlx (setup.py) ... \u001b[?25l\u001b[?25hdone\n",
            "  Created wheel for dlx: filename=dlx-1.0.4-cp36-none-any.whl size=5712 sha256=735c539e94e890f3f2537238b234a367f1087ba8b8efc1db400011dd4824182e\n",
            "  Stored in directory: /root/.cache/pip/wheels/bb/ba/15/fdd0deb104df3254912998150ba9245668db06b00af5912d1a\n",
            "  Building wheel for docplex (setup.py) ... \u001b[?25l\u001b[?25hdone\n",
            "  Created wheel for docplex: filename=docplex-2.13.184-cp36-none-any.whl size=633100 sha256=1a7aa1a2df940cc09a33bfcd2d24d4454250b4292cd14f4fc8d1f093ca4f0638\n",
            "  Stored in directory: /root/.cache/pip/wheels/35/67/46/e9d3c1cb652addc314816a29396c1c427c2735e8f6c656aab3\n",
            "Successfully built qiskit dlx docplex\n",
            "Installing collected packages: sympy, marshmallow, marshmallow-polyfield, ply, qiskit-terra, qiskit-aer, nest-asyncio, cryptography, ntlm-auth, requests-ntlm, websockets, qiskit-ibmq-provider, qiskit-ignis, dlx, inflection, quandl, docplex, pyscf, qiskit-aqua, qiskit\n",
            "  Found existing installation: sympy 1.1.1\n",
            "    Uninstalling sympy-1.1.1:\n",
            "      Successfully uninstalled sympy-1.1.1\n",
            "Successfully installed cryptography-2.9.2 dlx-1.0.4 docplex-2.13.184 inflection-0.4.0 marshmallow-2.21.0 marshmallow-polyfield-3.2 nest-asyncio-1.0.0 ntlm-auth-1.4.0 ply-3.11 pyscf-1.7.1 qiskit-0.12.0 qiskit-aer-0.3.0 qiskit-aqua-0.6.0 qiskit-ibmq-provider-0.3.2 qiskit-ignis-0.2.0 qiskit-terra-0.9.0 quandl-3.5.0 requests-ntlm-1.1.0 sympy-1.5.1 websockets-7.0\n"
          ],
          "name": "stdout"
        }
      ]
    },
    {
      "cell_type": "code",
      "metadata": {
        "id": "0Twgcx3ZGb8l",
        "colab_type": "code",
        "colab": {}
      },
      "source": [
        "import numpy as np\n",
        "import math\n",
        "from time import time\n",
        "from math import gcd\n",
        "from qiskit import(QuantumCircuit, QuantumRegister, ClassicalRegister, execute, Aer)\n",
        "from qiskit.aqua.circuits import FourierTransformCircuits as ftc\n",
        "from qiskit.aqua.circuits.gates import mcu1\n",
        "from qiskit.visualization import plot_histogram\n",
        "from qiskit.quantum_info.operators import Operator\n",
        "from qiskit.aqua.utils import summarize_circuits"
      ],
      "execution_count": 0,
      "outputs": []
    },
    {
      "cell_type": "markdown",
      "metadata": {
        "id": "OLoD30AdGb84",
        "colab_type": "text"
      },
      "source": [
        "$\\texttt{mod-exp(a, b, N)}$ computes $a^b\\text{ mod }N$ where $a \\in \\mathbb{Z}$, $b \\in \\mathbb{Z}^{\\geq0}$ and $N \\in \\mathbb{Z}^+$.\t"
      ]
    },
    {
      "cell_type": "code",
      "metadata": {
        "id": "I3yI5Q39Gb8-",
        "colab_type": "code",
        "colab": {}
      },
      "source": [
        "def mod_exp(a, b, N):\n",
        "    X = int(a)\n",
        "    E = int(b)\n",
        "    m = int(N)\n",
        "    if(E<0 or m<1):\n",
        "        return None\n",
        "    X = X % m\n",
        "    Y = 1\n",
        "    while E > 0:\n",
        "        if E % 2 == 0:\n",
        "            X = (X * X) % m\n",
        "            E = E/2\n",
        "        else:\n",
        "            Y = (X * Y) % m\n",
        "            E = E - 1\n",
        "    return Y"
      ],
      "execution_count": 0,
      "outputs": []
    },
    {
      "cell_type": "markdown",
      "metadata": {
        "id": "09bEUjrTGb9L",
        "colab_type": "text"
      },
      "source": [
        "$\\texttt{egcd(a, b)}$, where  $a, b \\in \\mathbb{Z}$,  returns a 3-tuple $(g, x, y)$ where  $a, b, g \\in \\mathbb{Z}$ such that $|g| = \\text{gcd}(a, b)$ and $ax + by = g$. If $a=b=0$, the $g=0$ is returned."
      ]
    },
    {
      "cell_type": "code",
      "metadata": {
        "id": "-kk86ZNXGb9O",
        "colab_type": "code",
        "colab": {}
      },
      "source": [
        "def egcd(a, b):\n",
        "    if a == 0:\n",
        "        return (b, 0, 1)\n",
        "    else:\n",
        "        g, y, x = egcd(b % a, a)\n",
        "        return (g, x - (b // a) * y, y)"
      ],
      "execution_count": 0,
      "outputs": []
    },
    {
      "cell_type": "markdown",
      "metadata": {
        "id": "oBJA7njoGb9i",
        "colab_type": "text"
      },
      "source": [
        "$\\texttt{modinv(a, n)}$, where $a, n \\in \\mathbb{Z}$ such that $n \\geq 2$, returns $a^{-1} \\text{ mod } n$ if $a$ and $n$ are relatively prime and returns $\\texttt{None}$ otherwise."
      ]
    },
    {
      "cell_type": "code",
      "metadata": {
        "id": "qfZQZA0UGb9l",
        "colab_type": "code",
        "colab": {}
      },
      "source": [
        "def modinv(a, n):\n",
        "    if(n<2):\n",
        "        return None\n",
        "    g, _, x = egcd(n, a)\n",
        "    if(g!=1):\n",
        "        return None\n",
        "    return x % n"
      ],
      "execution_count": 0,
      "outputs": []
    },
    {
      "cell_type": "markdown",
      "metadata": {
        "id": "ITQMgntLGb9w",
        "colab_type": "text"
      },
      "source": [
        "$\\texttt{order(a, N)}$, where $a \\in \\mathbb{Z}$ and $N \\in \\mathbb{Z}^{\\geq 2}$ such that $a$ and $N$ are relatively prime, returns the smallest positive integer $r$ such that $a^r \\equiv 1 \\text{ mod } N$.  One may replace it with Shor's order finding algorithm."
      ]
    },
    {
      "cell_type": "code",
      "metadata": {
        "id": "-gKNsduPGb9z",
        "colab_type": "code",
        "colab": {}
      },
      "source": [
        "def order(a, N):\n",
        "    N = int(N)\n",
        "    a = int(a) % N\n",
        "    if(N<2 or gcd(a, N)!=1):\n",
        "        return None\n",
        "    r = 1\n",
        "    p = a\n",
        "    while(p != 1):\n",
        "        p = (p*a) % N\n",
        "        r = r + 1\n",
        "    return r"
      ],
      "execution_count": 0,
      "outputs": []
    },
    {
      "cell_type": "markdown",
      "metadata": {
        "id": "ILm2IojOLRl3",
        "colab_type": "text"
      },
      "source": [
        "$\\texttt{get_noise(p_meas, p_gate)}$ sets the noise parameters for gates and measurements. For full explanation, see [this link](https://qiskit.org/textbook/ch-quantum-hardware/error-correction-repetition-code.html#Correcting-errors-in-qubits) "
      ]
    },
    {
      "cell_type": "code",
      "metadata": {
        "id": "nIH8A3VQLQ3a",
        "colab_type": "code",
        "colab": {}
      },
      "source": [
        "def get_noise(p_meas, p_gate):\n",
        "    error_meas = pauli_error([('X', p_meas), ('I', 1 - p_meas)])\n",
        "    error_gate1 = depolarizing_error(p_gate, 1)\n",
        "    error_gate2 = error_gate1.tensor(error_gate1)\n",
        "\n",
        "    noise_model = NoiseModel()\n",
        "    noise_model.add_all_qubit_quantum_error(error_meas, \"measure\") \n",
        "    noise_model.add_all_qubit_quantum_error(error_gate1, [\"x\", \"u1\", \"u2\"]) \n",
        "    noise_model.add_all_qubit_quantum_error(error_gate2, [\"cx\"]) \n",
        "        \n",
        "    return noise_model"
      ],
      "execution_count": 0,
      "outputs": []
    },
    {
      "cell_type": "markdown",
      "metadata": {
        "id": "D-1FFnYjGb-A",
        "colab_type": "text"
      },
      "source": [
        "$\\texttt{get_angles(a, n)}$ computes the rotation angle to be used in Fourier transform-like circuit for addition with $a$. $n$ denotes the number of bits used for representation. $a$ must be known classically."
      ]
    },
    {
      "cell_type": "code",
      "metadata": {
        "id": "nOVvzBWkGb-C",
        "colab_type": "code",
        "colab": {}
      },
      "source": [
        "def get_angles(a, n):\n",
        "    bit = bin(abs(int(a)))[2:].zfill(n)\n",
        "    theta = np.zeros(n)\n",
        "    for i in range(n):\n",
        "        for j in range(n-1-i, n):\n",
        "            if bit[j] == '1':\n",
        "                theta[i] += 2**(n-i-j-1)\n",
        "    theta = theta * np.pi\n",
        "    return theta"
      ],
      "execution_count": 0,
      "outputs": []
    },
    {
      "cell_type": "markdown",
      "metadata": {
        "id": "XE15FiMEGb-I",
        "colab_type": "text"
      },
      "source": [
        "$\\texttt{phi_add(circuit, q, a, n, c=[], inverse = False)}$ creates circuit to add(subtract, if $\\texttt{inverse==True}$) $a$ to(from) $q$ modulo $2^n$ in Fourier Space. $n$ is the number of bits used for representation. $c$ is a (possibly empty) list of control bits. $a$ must be known classically. $q$ is a quantum register of $n$ bits."
      ]
    },
    {
      "cell_type": "code",
      "metadata": {
        "id": "1z4kHJ2SGb-J",
        "colab_type": "code",
        "colab": {}
      },
      "source": [
        "def phi_add(circuit, q, a, n, c=[], inverse = False):\n",
        "    theta = get_angles(a, n)    \n",
        "    if(inverse):\n",
        "        theta = -theta\n",
        "    if not c:\n",
        "        for i in range(n):\n",
        "            circuit.u1(theta[i], q[i])    \n",
        "    else:\n",
        "        for i in range(n):\n",
        "            circuit.mcu1(theta[i], c, q[i])    "
      ],
      "execution_count": 0,
      "outputs": []
    },
    {
      "cell_type": "markdown",
      "metadata": {
        "id": "adi5-aFDGb-P",
        "colab_type": "text"
      },
      "source": [
        "$\\texttt{phi_add_mod_N(circuit, q, a, n, N, c, aux, inverse = False)}$ creates circuit to add(subtract, if $\\texttt{inverse==True}$) $a \\in \\mathbb{Z}^+$ to(from) $q$ mod $N$ in Fourier Space. $n$ is the number of bits used for representation. $c$ is a non-empty list of control bits. $a$ must be known classically. $q$ is a quantum register of $n+1$ bits. $q$ must be a non-negative integer less than $N$. $N$ must be a positive integer less than $2^n$. $aux$ is a single auxiliary qubit."
      ]
    },
    {
      "cell_type": "code",
      "metadata": {
        "id": "SPt7WAMdGb-R",
        "colab_type": "code",
        "colab": {}
      },
      "source": [
        "def phi_add_mod_N(circuit, q, a, n, N, c, aux, inverse = False):\n",
        "    if not c :\n",
        "        print('There should be at least one control qubit')\n",
        "        return None\n",
        "    if N <= 0 or N >= 2**n :\n",
        "        print('Choose appropriate N')\n",
        "        return None\n",
        "    if(inverse):\n",
        "        a = (-a) % N\n",
        "    else: \n",
        "        a = a % N\n",
        "        \n",
        "    phi_add(circuit, q, a, n+1, c)\n",
        "    phi_add(circuit, q, N, n+1, inverse=True)\n",
        "    ftc.construct_circuit(circuit=circuit, qubits=[q[i] for i in reversed(range(n+1))], do_swaps=False, inverse=True)\n",
        "    circuit.cx(q[n], aux)\n",
        "    ftc.construct_circuit(circuit=circuit, qubits=[q[i] for i in reversed(range(n+1))], do_swaps=False)\n",
        "    phi_add(circuit, q, N, n+1, [aux])\n",
        "    phi_add(circuit, q, a, n+1, c, inverse=True)\n",
        "    ftc.construct_circuit(circuit=circuit, qubits=[q[i] for i in reversed(range(n+1))], do_swaps=False, inverse=True)\n",
        "    circuit.x(q[n])\n",
        "    circuit.cx(q[n], aux)\n",
        "    circuit.x(q[n])\n",
        "    ftc.construct_circuit(circuit=circuit, qubits=[q[i] for i in reversed(range(n+1))], do_swaps=False)\n",
        "    phi_add(circuit, q, a, n+1, c)"
      ],
      "execution_count": 0,
      "outputs": []
    },
    {
      "cell_type": "markdown",
      "metadata": {
        "id": "YZd2w8ZQGb-Y",
        "colab_type": "text"
      },
      "source": [
        "$\\texttt{multiply_mod_N(circuit, q, a, n, N, c, aux)}$ creates circuit to multiply $a$ to $q$ mod $N$ in usual bit representation. $n$ is the number of bits used for representation. $a \\in \\mathbb{Z}^+$ must be known classically. $q$ is a quantum register of $n$ bits. $q$ must be a non-negative integer less than $N$ if we want the output to be $q$ mod $N$ (instead of $q$) when $c$ is $0$. $N$ must be a positive integer less than $2^n$. $a$ and $N$ must be relatively prime. $c$ is the only control bit. $aux$ is an auxiliary quantum register of $n+2$ bits."
      ]
    },
    {
      "cell_type": "code",
      "metadata": {
        "id": "M27RxGryGb-Z",
        "colab_type": "code",
        "colab": {}
      },
      "source": [
        "def multiply_mod_N(circuit, q, a, n, N, c, aux):\n",
        "    if N <= 0 or N >= 2**n :\n",
        "        print('Choose appropriate N')\n",
        "        return None\n",
        "    a = a % N\n",
        "    a_inv = modinv(a, N)\n",
        "    if(not a_inv):\n",
        "        print('Inverse of a does not exist')\n",
        "        return None\n",
        "    pow_2_mod = np.zeros(n)\n",
        "    pow_2_mod[0] = 1\n",
        "    for i in range(1, n):\n",
        "        pow_2_mod[i] = (2*pow_2_mod[i-1]) % N\n",
        "        \n",
        "    ftc.construct_circuit(circuit=circuit, qubits=[aux[i] for i in reversed(range(n+1))], do_swaps=False)\n",
        "    for i in range(n):\n",
        "        phi_add_mod_N(circuit, aux, (pow_2_mod[i]*a) % N, n, N, [c, q[i]], aux[n+1])\n",
        "    ftc.construct_circuit(circuit=circuit, qubits=[aux[i] for i in reversed(range(n+1))], do_swaps=False, inverse=True)\n",
        "    \n",
        "    for i in range(n):\n",
        "        circuit.cswap(c, q[i], aux[i])\n",
        "\n",
        "    ftc.construct_circuit(circuit=circuit, qubits=[aux[i] for i in reversed(range(n+1))], do_swaps=False)\n",
        "    for i in reversed(range(n)):\n",
        "        phi_add_mod_N(circuit, aux, (pow_2_mod[i]*a_inv) % N, n, N, [c, q[i]], aux[n+1], inverse=True)\n",
        "    ftc.construct_circuit(circuit=circuit, qubits=[aux[i] for i in reversed(range(n+1))], do_swaps=False, inverse=True)"
      ],
      "execution_count": 0,
      "outputs": []
    },
    {
      "cell_type": "markdown",
      "metadata": {
        "id": "ovLMzcbFGb-h",
        "colab_type": "text"
      },
      "source": [
        "$\\texttt{power_mod_N(circuit, q, r, a, m, n, N, aux)}$ creates circuit to compute $(r \\cdot a^q )\\text{ mod } N$ in the usual bit representation. $n$ is the number of bits used in the representation. $a$ must be known classically. $q$ and $r$ are quantum registers of $m$ and $n$ bits respectively. $N$ must be a positive integer less than $2^n$. $a$ and $N$ must be relatively prime. $aux$ is an auxiliary quantum register of $n+2$ bits. $r$ must be a non-negative integer less than $N$. However, if we know that $q$ is always positive, $r$ can be any non-negative integer less that $2^n$."
      ]
    },
    {
      "cell_type": "code",
      "metadata": {
        "id": "anLsj7jwGb-i",
        "colab_type": "code",
        "colab": {}
      },
      "source": [
        "def power_mod_N(circuit, q, r, a, m, n, N, aux):\n",
        "    if N <= 0 or N >= 2**n :\n",
        "        print('Choose appropriate N')\n",
        "        return None\n",
        "    temp = a % N\n",
        "    for i in range(m):\n",
        "        multiply_mod_N(circuit, r, temp, n, N, q[i], aux)\n",
        "        temp = (temp*temp) % N"
      ],
      "execution_count": 0,
      "outputs": []
    },
    {
      "cell_type": "markdown",
      "metadata": {
        "id": "Pfnx968SGb-o",
        "colab_type": "text"
      },
      "source": [
        "$\\texttt{discrete_log(a, b, N, n_shots=64)}$ returns  $t$ such that $a^t \\equiv b \\text{ mod } N$, with high probability, if such a $t$ exists. In this case, $t \\in \\mathbb{Z}_r$ where $r$ is the order of $a$ modulo $N$. Otherwise $t = \\texttt{None}$.  $a, b \\in \\mathbb{Z}$ and $N \\in \\mathbb{Z}^{\\geq 2}$ such that  $a$ and $N$ must be relatively prime.  This is the only function that uses the $\\texttt{order()}$ function. One may replace its definition by Shor's order finding algorithm which works in polynomial time. This is not done here so as to focus only on the discrete log quantum algorithm.  $n\\_shots$ is the maximum number of times the algorithm should be run to determine the answer."
      ]
    },
    {
      "cell_type": "code",
      "metadata": {
        "id": "eHe4rES_Gb-p",
        "colab_type": "code",
        "colab": {}
      },
      "source": [
        "def discrete_log(a, b, N, noise_model=None, n_shots=32):\n",
        "    N = int(N)\n",
        "    a = int(a) % N\n",
        "    b = int(b) % N\n",
        "    n_shots = int(n_shots)\n",
        "    \n",
        "    if(N<2 or gcd(a, N) != 1 or n_shots<1):\n",
        "        print('Input error')\n",
        "        return None\n",
        "    if(gcd(b, N) != 1):\n",
        "        return None\n",
        "    \n",
        "    r = int(order(a, N))\n",
        "    if(r==1):\n",
        "        if(b==1):\n",
        "            return 0\n",
        "        else:\n",
        "            return None\n",
        "    m = int(np.ceil(np.log2(N+1)))\n",
        "    n = int(np.ceil(np.log2(r+1))) + 1\n",
        "    q = QuantumRegister(2*(m+n+1), 'q')\n",
        "    c = ClassicalRegister(2*n, 'c')\n",
        "    circuit = QuantumCircuit(q, c)\n",
        "    \n",
        "    for i in range(2*n):\n",
        "        circuit.h(q[i])\n",
        "    circuit.x(q[2*n])\n",
        "    power_mod_N(circuit, q[:n], q[2*n:2*n+m], a, n, m, N, q[2*n+m:2*n+2*m+2])\n",
        "    power_mod_N(circuit, q[n:2*n], q[2*n:2*n+m], b, n, m, N, q[2*n+m:2*n+2*m+2])\n",
        "    ftc.construct_circuit(circuit=circuit, qubits=[q[i] for i in reversed(range(n))], inverse=True)\n",
        "    ftc.construct_circuit(circuit=circuit, qubits=[q[i] for i in reversed(range(n, 2*n))], inverse=True)\n",
        "    circuit.measure(q[:2*n], c[:2*n])\n",
        "    \n",
        "    simulator = Aer.get_backend('qasm_simulator')\n",
        "    job = execute(circuit, simulator, noise_model=noise_model, shots=n_shots)\n",
        "    result = job.result()\n",
        "    counts = result.get_counts(circuit)\n",
        "    M = len(counts)\n",
        "     \n",
        "    k = []\n",
        "    kt_mod_r = []\n",
        "    for key in counts:\n",
        "        x = int(key[-n:], 2) \n",
        "        y = int(key[-2*n:-n], 2) \n",
        "        k.append(round((x*r)/(2**n)))\n",
        "        kt_mod_r.append(round((y*r)/(2**n)))\n",
        "\n",
        "    for j in range(M):\n",
        "        for i in range(j+1):\n",
        "            if(gcd(k[i], k[j]) == 1):\n",
        "                _, v1, v2 = egcd(k[i], k[j])\n",
        "                t = (kt_mod_r[i]*v1 + kt_mod_r[j]*v2)%r\n",
        "                if(mod_exp(a, t, N) == b):\n",
        "                    return t\n",
        "    return None"
      ],
      "execution_count": 0,
      "outputs": []
    },
    {
      "cell_type": "markdown",
      "metadata": {
        "id": "8aPgQ85dGb-z",
        "colab_type": "text"
      },
      "source": [
        "Change the values of $a, b$ and $N$ in the following cell. Also, select the noise model by setting the arguments to the $\\texttt{get_noise()}$ function. See the cell for $\\texttt{get_noise()}$ for more details on noise parameters."
      ]
    },
    {
      "cell_type": "code",
      "metadata": {
        "id": "VLj37owZGb-0",
        "colab_type": "code",
        "outputId": "9d87aa40-6b7d-42ee-d91d-39d3678ff7be",
        "colab": {
          "base_uri": "https://localhost:8080/",
          "height": 54
        }
      },
      "source": [
        "a = 6\n",
        "b = 30\n",
        "N = 31\n",
        "n_shots = 32\n",
        "#noise_model = get_noise(0.01, 0.01)\n",
        "noise_model = None\n",
        "s_time = time()\n",
        "print('t =', discrete_log(a, b, N, noise_model, n_shots))\n",
        "print('Time:', round(time() - s_time), 's') "
      ],
      "execution_count": 0,
      "outputs": [
        {
          "output_type": "stream",
          "text": [
            "t = 3\n",
            "Time: 197 s\n"
          ],
          "name": "stdout"
        }
      ]
    }
  ]
}