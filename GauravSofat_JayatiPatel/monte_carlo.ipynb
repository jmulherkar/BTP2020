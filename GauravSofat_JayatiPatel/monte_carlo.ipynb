{
  "nbformat": 4,
  "nbformat_minor": 0,
  "metadata": {
    "colab": {
      "name": "monte-carlo.ipynb",
      "provenance": [],
      "collapsed_sections": [
        "sr_MNziEyV7Q",
        "lg8ot3_BztD-",
        "lskl_06A2WU0",
        "HdveAO7B3TKe"
      ],
      "authorship_tag": "ABX9TyNApn26fZQWE/muijSxyz5W"
    },
    "kernelspec": {
      "name": "python3",
      "display_name": "Python 3"
    }
  },
  "cells": [
    {
      "cell_type": "markdown",
      "metadata": {
        "id": "FArEQo8OsnbC",
        "colab_type": "text"
      },
      "source": [
        "# Monte-Carlo Method"
      ]
    },
    {
      "cell_type": "markdown",
      "metadata": {
        "id": "VOZPWRH4xycQ",
        "colab_type": "text"
      },
      "source": [
        "## Install External Libraries"
      ]
    },
    {
      "cell_type": "code",
      "metadata": {
        "id": "e9DP3VV3x1iR",
        "colab_type": "code",
        "colab": {}
      },
      "source": [
        "!pip install PyPortfolioOpt\n",
        "!pip install yfinance"
      ],
      "execution_count": 0,
      "outputs": []
    },
    {
      "cell_type": "markdown",
      "metadata": {
        "id": "PvSPt8C8swo2",
        "colab_type": "text"
      },
      "source": [
        "## Import Dependencies"
      ]
    },
    {
      "cell_type": "code",
      "metadata": {
        "id": "iFpiB9Hus9kk",
        "colab_type": "code",
        "colab": {}
      },
      "source": [
        "import matplotlib\n",
        "import pypfopt\n",
        "import datetime\n",
        "import math\n",
        "\n",
        "import pandas as pd\n",
        "import numpy as np\n",
        "import yfinance as yf\n",
        "import matplotlib.pyplot as plt"
      ],
      "execution_count": 0,
      "outputs": []
    },
    {
      "cell_type": "markdown",
      "metadata": {
        "id": "iVkgNrQQtuIq",
        "colab_type": "text"
      },
      "source": [
        "## Set Local Variables"
      ]
    },
    {
      "cell_type": "code",
      "metadata": {
        "id": "jPVJ8ISKtCfH",
        "colab_type": "code",
        "colab": {}
      },
      "source": [
        "risk_free_rate = 0.06501 # Risk-free rate of return, 10Yr Treasury Bond Yield\n",
        "trading_days = 240 # No of trading days in a year\n",
        "\n",
        "start_date = datetime.date(2000, 1, 1) # Oldest date to be considered for price analysis\n",
        "investment_date = datetime.date(2019, 1, 1) # Date when funds are invested \n",
        "investment_end = datetime.date(2020, 5, 1) # Date of end of investment period"
      ],
      "execution_count": 0,
      "outputs": []
    },
    {
      "cell_type": "code",
      "metadata": {
        "id": "377e7w0B4pyV",
        "colab_type": "code",
        "colab": {}
      },
      "source": [
        "asset_universe = ['HDFC.BO', 'BAJFINANCE.BO', 'SBIN.BO', 'TITAN.BO', 'HDFCBANK.BO', \n",
        "                  'HEROMOTOCO.BO', 'INFY.BO', 'KOTAKBANK.BO', 'ONGC.BO', 'RELIANCE.BO',\n",
        "                  'TATASTEEL.BO', 'LT.BO', 'M&M.BO', 'HINDUNILVR.BO', 'NESTLEIND.BO',\n",
        "                  'ASIANPAINT.BO', 'ITC.BO', 'SUNPHARMA.BO', 'ICICIBANK.BO', 'INDUSINDBK.BO',\n",
        "                  'AXISBANK.BO', 'HCLTECH.BO', 'BHARTIARTL.BO', 'MARUTI.BO','ULTRACEMCO.BO',\n",
        "                  'TCS.BO', 'NTPC.BO', 'TECHM.BO', 'POWERGRID.BO','BAJAJ-AUTO.BO'\n",
        "]"
      ],
      "execution_count": 0,
      "outputs": []
    },
    {
      "cell_type": "markdown",
      "metadata": {
        "id": "v-Ai3Y034q5W",
        "colab_type": "text"
      },
      "source": [
        "## Process Historical Data"
      ]
    },
    {
      "cell_type": "code",
      "metadata": {
        "id": "PMmutxSJ4ysi",
        "colab_type": "code",
        "outputId": "f107ecc1-439d-48b7-ca8b-98faa4974715",
        "colab": {
          "base_uri": "https://localhost:8080/",
          "height": 51
        }
      },
      "source": [
        "# Download historical closing prices\n",
        "sensex30_history = yf.download(asset_universe, start=start_date, end=investment_end, auto_adjust=True).loc[:, 'Close']\n",
        "sensex_history = yf.download('^BSESN', start=start_date, end=investment_end, auto_adjust=True).loc[:, 'Close']"
      ],
      "execution_count": 0,
      "outputs": [
        {
          "output_type": "stream",
          "text": [
            "[*********************100%***********************]  30 of 30 completed\n",
            "[*********************100%***********************]  1 of 1 completed\n"
          ],
          "name": "stdout"
        }
      ]
    },
    {
      "cell_type": "code",
      "metadata": {
        "id": "D1tBrajt40fI",
        "colab_type": "code",
        "colab": {}
      },
      "source": [
        "# Rename data columns\n",
        "rename_col_dict = dict()\n",
        "for ticker in sensex30_history.columns:\n",
        "  rename_col_dict[ticker] = ticker[:-3]\n",
        "\n",
        "sensex30_history = sensex30_history.rename(columns=rename_col_dict)"
      ],
      "execution_count": 0,
      "outputs": []
    },
    {
      "cell_type": "markdown",
      "metadata": {
        "id": "zt5QzV5CtDYj",
        "colab_type": "text"
      },
      "source": [
        "## Compute and Plot Expected Returns"
      ]
    },
    {
      "cell_type": "code",
      "metadata": {
        "id": "spwnDxrRtJ56",
        "colab_type": "code",
        "colab": {}
      },
      "source": [
        "# Compute expected returns\n",
        "sensex30_prices = sensex30_history.loc[start_date:investment_date , :].copy()\n",
        "\n",
        "# Compute annualised mean daily returns of 30 stocks using data since 2009\n",
        "mean_daily_returns = sensex30_prices.pct_change().dropna(how=\"all\").mean()\n",
        "\n",
        "# Annualise mean daily returns via compounding\n",
        "expected_returns = (1 + mean_daily_returns) ** trading_days - 1\n",
        "# print(type(expected_returns))"
      ],
      "execution_count": 0,
      "outputs": []
    },
    {
      "cell_type": "code",
      "metadata": {
        "id": "92YkcVqhuN46",
        "colab_type": "code",
        "colab": {}
      },
      "source": [
        "# Plot Expected Returns\n",
        "plt.style.use(\"seaborn-whitegrid\")\n",
        "ax = expected_returns.plot(kind=\"barh\")\n",
        "start, end = ax.get_xlim()\n",
        "ax.xaxis.set_ticks(np.arange(start, end, 0.5))\n",
        "plt.grid(True)\n",
        "plt.ylabel(\"Stock Tickers\")\n",
        "plt.xlabel(\"Expected Return\")\n",
        "plt.show()"
      ],
      "execution_count": 0,
      "outputs": []
    },
    {
      "cell_type": "markdown",
      "metadata": {
        "id": "gExzjBu-uozF",
        "colab_type": "text"
      },
      "source": [
        "## Compute and Plot Co-variance Matrix"
      ]
    },
    {
      "cell_type": "code",
      "metadata": {
        "id": "ZRzb5UfSusla",
        "colab_type": "code",
        "colab": {}
      },
      "source": [
        "# Compute Covariance Matrix\n",
        "cov_matrix = pypfopt.risk_models.CovarianceShrinkage(sensex30_prices, frequency=trading_days).ledoit_wolf(shrinkage_target=\"constant_correlation\")\n",
        "\n",
        "# Convert Covariance Matrix to Correlation Matrix\n",
        "inv_diag = np.diag(1 / np.sqrt(np.diag(cov_matrix)))\n",
        "corr_matrix = pd.DataFrame(np.dot(inv_diag, np.dot(cov_matrix, inv_diag)), index=cov_matrix.index, columns=cov_matrix.columns)"
      ],
      "execution_count": 0,
      "outputs": []
    },
    {
      "cell_type": "code",
      "metadata": {
        "id": "1XhhpkqWutUU",
        "colab_type": "code",
        "colab": {}
      },
      "source": [
        "# Plot Covariance Matrix Heatmap\n",
        "\n",
        "plt.style.use(\"default\")\n",
        "fig, ax = plt.subplots()\n",
        "\n",
        "corr_ax = ax.imshow(corr_matrix, cmap='magma')\n",
        "\n",
        "fig.colorbar(corr_ax)\n",
        "ax.set_xticks(np.arange(0, corr_matrix.shape[0], 1))\n",
        "ax.set_xticklabels(corr_matrix.index)\n",
        "ax.set_yticks(np.arange(0, corr_matrix.shape[0], 1))\n",
        "ax.set_yticklabels(corr_matrix.index)\n",
        "plt.xticks(rotation=90)\n",
        "\n",
        "plt.show()"
      ],
      "execution_count": 0,
      "outputs": []
    },
    {
      "cell_type": "markdown",
      "metadata": {
        "id": "sr_MNziEyV7Q",
        "colab_type": "text"
      },
      "source": [
        "## Monte-Carlo Simulations"
      ]
    },
    {
      "cell_type": "code",
      "metadata": {
        "id": "HBcOBUy4yZzq",
        "colab_type": "code",
        "colab": {}
      },
      "source": [
        "num_iterations = 1000000 # Number of simulations to be run\n",
        "simulation_results = np.zeros((33 , num_iterations)) # Array to store the simulation results"
      ],
      "execution_count": 0,
      "outputs": []
    },
    {
      "cell_type": "code",
      "metadata": {
        "id": "AF7ps7obypyX",
        "colab_type": "code",
        "colab": {}
      },
      "source": [
        "# Simulate random weights and normalize them to ensure their aggregate is 1\n",
        "\n",
        "for i in range(num_iterations):\n",
        "    weights = np.array(np.random.random(30))\n",
        "    weights /= np.sum(weights)\n",
        "    portfolio_return = np.sum(expected_returns * weights)\n",
        "    portfolio_stddev = np.sqrt(np.dot(weights.T,np.dot(cov_matrix, weights)))\n",
        "    simulation_results[0,i] = portfolio_return\n",
        "    simulation_results[1,i] = portfolio_stddev\n",
        "    simulation_results[2,i] = simulation_results[0,i] / simulation_results[1,i]\n",
        "    for j in range(len(weights)):\n",
        "      simulation_results[j+3,i] = weights[j]"
      ],
      "execution_count": 0,
      "outputs": []
    },
    {
      "cell_type": "code",
      "metadata": {
        "id": "FfQPAxvWy7nn",
        "colab_type": "code",
        "colab": {}
      },
      "source": [
        "stock_list = list(sensex30_history.columns)\n",
        "columns = ['return','stdev','sharpe'] + stock_list\n",
        "\n",
        "simulation_df = pd.DataFrame(simulation_results.T, columns=columns)"
      ],
      "execution_count": 0,
      "outputs": []
    },
    {
      "cell_type": "markdown",
      "metadata": {
        "id": "lg8ot3_BztD-",
        "colab_type": "text"
      },
      "source": [
        "## Optimal Portfolio: Maximum Sharpe Ratio"
      ]
    },
    {
      "cell_type": "code",
      "metadata": {
        "id": "9apF5yZXzq0m",
        "colab_type": "code",
        "colab": {}
      },
      "source": [
        "max_sharpe_portfolio = simulation_df.iloc[simulation_df['sharpe'].idxmax()]\n",
        "\n",
        "max_sharpe_nonzero_wts = dict()\n",
        "for key, val in max_sharpe_portfolio.iloc[3:].items():\n",
        "  if val != 0:\n",
        "    max_sharpe_nonzero_wts[key] = val\n",
        "print(max_sharpe_nonzero_wts)\n",
        "\n",
        "# max_sharpe_nonzero_wts = {'ASIANPAINT': 0.07343238490348997, 'AXISBANK': 0.008612974885070648, 'BAJAJ-AUTO': 0.03813084499118751, 'BAJFINANCE': 0.061185912560794316, 'BHARTIARTL': 0.004593054770775295, 'HCLTECH': 0.02086067944574963, 'HDFC': 0.03605937751872655, 'HDFCBANK': 0.040425363142332506, 'HEROMOTOCO': 0.06362023999177947, 'HINDUNILVR': 0.0013520625386036853, 'ICICIBANK': 0.043585316890703024, 'INDUSINDBK': 0.004503803481489264, 'INFY': 0.08042114124561395, 'ITC': 0.053653646551070425, 'KOTAKBANK': 0.024905588185587458, 'LT': 0.00534836152674258, 'M&M': 0.02682813480887665, 'MARUTI': 0.002167708621866709, 'NESTLEIND': 0.06076848889180933, 'NTPC': 0.015182944531474951, 'ONGC': 0.05442929888657013, 'POWERGRID': 0.03257005691129782, 'RELIANCE': 0.015565039461076551, 'SBIN': 0.05649540175373632, 'SUNPHARMA': 0.04901544405907509, 'TATASTEEL': 0.007102437112315602, 'TCS': 0.06347439598854171, 'TECHM': 0.024771014628683825, 'TITAN': 0.0016933222736356726, 'ULTRACEMCO': 0.02924555944132324}"
      ],
      "execution_count": 0,
      "outputs": []
    },
    {
      "cell_type": "code",
      "metadata": {
        "id": "OSRVfNVo1-q8",
        "colab_type": "code",
        "colab": {}
      },
      "source": [
        "# Plot Maximum Sharpe Ratio Portfolio\n",
        "\n",
        "plt.style.use(\"default\")\n",
        "plt.pie(max_sharpe_nonzero_wts.values(), labels=max_sharpe_nonzero_wts.keys(), autopct=\"%.2f%%\", pctdistance=0.8)\n",
        "plt.show()"
      ],
      "execution_count": 0,
      "outputs": []
    },
    {
      "cell_type": "markdown",
      "metadata": {
        "id": "lskl_06A2WU0",
        "colab_type": "text"
      },
      "source": [
        "## Optimal Portfolio: Min Volatility"
      ]
    },
    {
      "cell_type": "code",
      "metadata": {
        "id": "0X_-wpoH2V18",
        "colab_type": "code",
        "colab": {}
      },
      "source": [
        "min_volatility_portfolio = simulation_df.iloc[simulation_df['stdev'].idxmin()]\n",
        "\n",
        "min_volatility_nonzero_wts = dict()\n",
        "for key, val in min_volatility_portfolio.iloc[3:].items():\n",
        "  if val != 0:\n",
        "    min_volatility_nonzero_wts[key] = val\n",
        "print(min_volatility_nonzero_wts)\n",
        "\n",
        "# min_volatility_nonzero_wts = {'ASIANPAINT': 0.01965804063580751, 'AXISBANK': 0.07921900481905146, 'BAJAJ-AUTO': 0.04732795120160519, 'BAJFINANCE': 0.006120193243540219, 'BHARTIARTL': 0.06385857271334033, 'HCLTECH': 0.020179076198290534, 'HDFC': 0.020976476571361927, 'HDFCBANK': 0.0031102360667119348, 'HEROMOTOCO': 0.06424486152873407, 'HINDUNILVR': 0.0835648551821641, 'ICICIBANK': 0.02450419620045124, 'INDUSINDBK': 0.0023788405507441305, 'INFY': 0.0349505328171844, 'ITC': 0.005338397125845731, 'KOTAKBANK': 0.015183855668722742, 'LT': 0.02607057640222921, 'M&M': 0.007845254228140591, 'MARUTI': 0.04593207681819233, 'NESTLEIND': 0.051963769101888095, 'NTPC': 0.04613073193245974, 'ONGC': 0.016806068861266624, 'POWERGRID': 0.04827795057037961, 'RELIANCE': 0.06797010969697301, 'SBIN': 0.01728353751669665, 'SUNPHARMA': 0.06417051300273635, 'TATASTEEL': 0.010970783283510551, 'TCS': 0.008782654701519997, 'TECHM': 0.02575905660883659, 'TITAN': 0.00041541287572671064, 'ULTRACEMCO': 0.0710064138758882}"
      ],
      "execution_count": 0,
      "outputs": []
    },
    {
      "cell_type": "code",
      "metadata": {
        "id": "cs1hm4o221V-",
        "colab_type": "code",
        "colab": {}
      },
      "source": [
        "# Plot Minimum Volatility Ratio Portfolio\n",
        "\n",
        "plt.style.use(\"default\")\n",
        "plt.pie(min_volatility_nonzero_wts.values(), labels=min_volatility_nonzero_wts.keys(), autopct=\"%.2f%%\", pctdistance=0.8)\n",
        "plt.show()"
      ],
      "execution_count": 0,
      "outputs": []
    },
    {
      "cell_type": "markdown",
      "metadata": {
        "id": "HdveAO7B3TKe",
        "colab_type": "text"
      },
      "source": [
        "## Scatter Plot For Simulated Portfolios"
      ]
    },
    {
      "cell_type": "code",
      "metadata": {
        "id": "4IAHVyJ_3W8w",
        "colab_type": "code",
        "colab": {}
      },
      "source": [
        "# Plot Scatter Plot For Monte-Carlo Simulated Portfolio\n",
        "\n",
        "plt.style.use(\"seaborn-whitegrid\")\n",
        "plt.xlabel('Standard Deviation')\n",
        "plt.ylabel('Returns')\n",
        "\n",
        "plt.scatter(simulation_df['stdev']**2, simulation_df['return'], c=simulation_df['sharpe'], cmap=\"gray\")\n",
        "\n",
        "max_sharpe_pt = plt.scatter(max_sharpe_portfolio[1]**2, max_sharpe_portfolio[0],color='r', s=100)\n",
        "min_volatility_pt = plt.scatter(min_volatility_portfolio[1]**2, min_volatility_portfolio[0], color='b', s=100)\n",
        "plt.grid(True)\n",
        "\n",
        "plt.legend((max_sharpe_pt, min_volatility_pt), ('Max Sharpe', 'Min Volatility'), loc='best')\n",
        "plt.ylabel(\"Expected Returns\")\n",
        "plt.xlabel(\"Risk\")\n",
        "\n",
        "plt.show()"
      ],
      "execution_count": 0,
      "outputs": []
    },
    {
      "cell_type": "markdown",
      "metadata": {
        "id": "QYIBLfPv7LGn",
        "colab_type": "text"
      },
      "source": [
        "## Performance Analysis of Monte Carlo Method"
      ]
    },
    {
      "cell_type": "code",
      "metadata": {
        "id": "E4Tm_AO17ZK4",
        "colab_type": "code",
        "colab": {}
      },
      "source": [
        "# Slice price datasets to required time-ranges\n",
        "sensex_prices = sensex_history.loc[investment_date:investment_end].copy()\n",
        "sensex30_prices = sensex30_history.loc[investment_date:investment_end].copy()"
      ],
      "execution_count": 0,
      "outputs": []
    },
    {
      "cell_type": "code",
      "metadata": {
        "id": "JA-9VsXH7dXY",
        "colab_type": "code",
        "colab": {}
      },
      "source": [
        "# Create dataframe to analyse portfolio performance\n",
        "portfolio_performance = pd.DataFrame(index=sensex_prices.index)\n",
        "\n",
        "# Import Sensex benchmark price value data\n",
        "portfolio_performance['Sensex'] = sensex_prices"
      ],
      "execution_count": 0,
      "outputs": []
    },
    {
      "cell_type": "code",
      "metadata": {
        "id": "_J4jmpe77fPV",
        "colab_type": "code",
        "colab": {}
      },
      "source": [
        "# Import Max Sharpe portfolio price value\n",
        "# max_sharpe_nonzero_wts = {'ASIANPAINT': 0.07343238490348997, 'AXISBANK': 0.008612974885070648, 'BAJAJ-AUTO': 0.03813084499118751, 'BAJFINANCE': 0.061185912560794316, 'BHARTIARTL': 0.004593054770775295, 'HCLTECH': 0.02086067944574963, 'HDFC': 0.03605937751872655, 'HDFCBANK': 0.040425363142332506, 'HEROMOTOCO': 0.06362023999177947, 'HINDUNILVR': 0.0013520625386036853, 'ICICIBANK': 0.043585316890703024, 'INDUSINDBK': 0.004503803481489264, 'INFY': 0.08042114124561395, 'ITC': 0.053653646551070425, 'KOTAKBANK': 0.024905588185587458, 'LT': 0.00534836152674258, 'M&M': 0.02682813480887665, 'MARUTI': 0.002167708621866709, 'NESTLEIND': 0.06076848889180933, 'NTPC': 0.015182944531474951, 'ONGC': 0.05442929888657013, 'POWERGRID': 0.03257005691129782, 'RELIANCE': 0.015565039461076551, 'SBIN': 0.05649540175373632, 'SUNPHARMA': 0.04901544405907509, 'TATASTEEL': 0.007102437112315602, 'TCS': 0.06347439598854171, 'TECHM': 0.024771014628683825, 'TITAN': 0.0016933222736356726, 'ULTRACEMCO': 0.02924555944132324}\n",
        "\n",
        "max_sharpe_val = pd.Series(index=sensex30_prices.index)\n",
        "\n",
        "for index in sensex30_prices.index:\n",
        "  val = 0\n",
        "  for stock, wt in max_sharpe_nonzero_wts.items():\n",
        "      val = val + wt * sensex30_prices.loc[index, stock]\n",
        "  max_sharpe_val[index] = val\n",
        "\n",
        "portfolio_performance['Max Sharpe'] = max_sharpe_val"
      ],
      "execution_count": 0,
      "outputs": []
    },
    {
      "cell_type": "code",
      "metadata": {
        "id": "6g_LdZyN7mYv",
        "colab_type": "code",
        "colab": {}
      },
      "source": [
        "# Import Min Volatility portfolio price value\n",
        "# min_volatility_nonzero_wts = {'ASIANPAINT': 0.01965804063580751, 'AXISBANK': 0.07921900481905146, 'BAJAJ-AUTO': 0.04732795120160519, 'BAJFINANCE': 0.006120193243540219, 'BHARTIARTL': 0.06385857271334033, 'HCLTECH': 0.020179076198290534, 'HDFC': 0.020976476571361927, 'HDFCBANK': 0.0031102360667119348, 'HEROMOTOCO': 0.06424486152873407, 'HINDUNILVR': 0.0835648551821641, 'ICICIBANK': 0.02450419620045124, 'INDUSINDBK': 0.0023788405507441305, 'INFY': 0.0349505328171844, 'ITC': 0.005338397125845731, 'KOTAKBANK': 0.015183855668722742, 'LT': 0.02607057640222921, 'M&M': 0.007845254228140591, 'MARUTI': 0.04593207681819233, 'NESTLEIND': 0.051963769101888095, 'NTPC': 0.04613073193245974, 'ONGC': 0.016806068861266624, 'POWERGRID': 0.04827795057037961, 'RELIANCE': 0.06797010969697301, 'SBIN': 0.01728353751669665, 'SUNPHARMA': 0.06417051300273635, 'TATASTEEL': 0.010970783283510551, 'TCS': 0.008782654701519997, 'TECHM': 0.02575905660883659, 'TITAN': 0.00041541287572671064, 'ULTRACEMCO': 0.0710064138758882}\n",
        "\n",
        "min_volatility_val = pd.Series(index=sensex30_prices.index)\n",
        "\n",
        "for index in sensex30_prices.index:\n",
        "  val = 0\n",
        "  for stock, wt in min_volatility_nonzero_wts.items():\n",
        "      val = val + wt * sensex30_prices.loc[index, stock]\n",
        "  min_volatility_val[index] = val\n",
        "\n",
        "portfolio_performance['Min Volatility'] = min_volatility_val"
      ],
      "execution_count": 0,
      "outputs": []
    },
    {
      "cell_type": "code",
      "metadata": {
        "id": "zvz6jLU17ooQ",
        "colab_type": "code",
        "colab": {}
      },
      "source": [
        "# Compute and Plot Relative Portfolio Performance\n",
        "portfolio_performance = portfolio_performance.pct_change()\n",
        "\n",
        "# Normalise data to measure relative percentage change over time\n",
        "for label, content in portfolio_performance.iteritems():\n",
        "  for index, value in content.iteritems():\n",
        "    if math.isnan(value):\n",
        "      portfolio_performance.loc[index, label] = 100\n",
        "      prev_index = index\n",
        "    else:\n",
        "      portfolio_performance.loc[index, label] = portfolio_performance.loc[prev_index, label] * (1 + value)\n",
        "      prev_index = index"
      ],
      "execution_count": 0,
      "outputs": []
    },
    {
      "cell_type": "code",
      "metadata": {
        "id": "msYZUVFikRYT",
        "colab_type": "code",
        "outputId": "dc33bde8-47b1-466a-c1eb-62f0e161b19e",
        "colab": {
          "base_uri": "https://localhost:8080/",
          "height": 288
        }
      },
      "source": [
        "# Plot Relative Performance Graph\n",
        "plt.style.use('seaborn-whitegrid')\n",
        "portfolio_performance.plot(grid=True)\n",
        "plt.ylabel(\"Relative Value\")\n",
        "plt.show()"
      ],
      "execution_count": 0,
      "outputs": [
        {
          "output_type": "display_data",
          "data": {
            "text/plain": [
              "<Figure size 3000x2000 with 0 Axes>"
            ]
          },
          "metadata": {
            "tags": []
          }
        },
        {
          "output_type": "display_data",
          "data": {
            "image/png": "[encoded data removed]",
            "text/plain": [
              "<Figure size 432x288 with 1 Axes>"
            ]
          },
          "metadata": {
            "tags": []
          }
        }
      ]
    },
    {
      "cell_type": "code",
      "metadata": {
        "id": "emzRQq3I1u4Y",
        "colab_type": "code",
        "colab": {}
      },
      "source": [
        "# Print LaTeX-friendly portfolio composition\n",
        "\n",
        "for ticker in sensex30_prices.columns.values:\n",
        "  print(ticker + ' & ' + \n",
        "        (str(round(max_sharpe_nonzero_wts[ticker]*100, 2)) if ticker in max_sharpe_nonzero_wts else 0.00) \n",
        "        + '\\% & ' \n",
        "        + (str(round(min_volatility_nonzero_wts[ticker]*100, 2)) if ticker in min_volatility_nonzero_wts else 0.00)\n",
        "        + '\\% \\\\\\\\' )"
      ],
      "execution_count": 0,
      "outputs": []
    }
  ]
}